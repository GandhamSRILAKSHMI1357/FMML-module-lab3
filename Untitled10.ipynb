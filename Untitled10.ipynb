{
  "nbformat": 4,
  "nbformat_minor": 0,
  "metadata": {
    "colab": {
      "provenance": [],
      "authorship_tag": "ABX9TyMH0Vq5S9Q+zy4Fa8PcJGDg",
      "include_colab_link": true
    },
    "kernelspec": {
      "name": "python3",
      "display_name": "Python 3"
    },
    "language_info": {
      "name": "python"
    }
  },
  "cells": [
    {
      "cell_type": "markdown",
      "metadata": {
        "id": "view-in-github",
        "colab_type": "text"
      },
      "source": [
        "<a href=\"https://colab.research.google.com/github/GandhamSRILAKSHMI1357/FMML-module-lab3/blob/main/Untitled10.ipynb\" target=\"_parent\"><img src=\"https://colab.research.google.com/assets/colab-badge.svg\" alt=\"Open In Colab\"/></a>"
      ]
    },
    {
      "cell_type": "code",
      "execution_count": 1,
      "metadata": {
        "id": "0Jva-5Jxyj2x"
      },
      "outputs": [],
      "source": [
        "# # ------------------------------------------- # # Reshaping & Transposing import numpy as np # # Reshaping => Change the Shape of an Array # # Transposing => Change the Dimensionality of an Array # => Swap the rows to cols # row => 2 # cols => 3 array5 = np.array([[1,2,3], [4,5,6]]) # # Ex: Reshaping(row, cols) print(array5.reshape(3,2)) # # Ex: Transposing print(array5.T)"
      ]
    }
  ]
}