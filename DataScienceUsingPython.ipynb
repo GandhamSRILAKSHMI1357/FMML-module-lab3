{
  "nbformat": 4,
  "nbformat_minor": 0,
  "metadata": {
    "colab": {
      "provenance": [],
      "collapsed_sections": [
        "VtWoUhRpW6mP",
        "MyAvxp2NW-TO",
        "T_PmXCtMXC0i",
        "J3bIfnSzXJvA",
        "pSMW_oobXPQq",
        "GapKnh6eXSk4",
        "5Ske37fCXWoB",
        "gapmveahXaWy",
        "c111CPuKXem8",
        "r2blyvITXh6Z"
      ],
      "include_colab_link": true
    },
    "kernelspec": {
      "name": "python3",
      "display_name": "Python 3"
    },
    "language_info": {
      "name": "python"
    }
  },
  "cells": [
    {
      "cell_type": "markdown",
      "metadata": {
        "id": "view-in-github",
        "colab_type": "text"
      },
      "source": [
        "<a href=\"https://colab.research.google.com/github/GandhamSRILAKSHMI1357/FMML-module-lab3/blob/main/DataScienceUsingPython.ipynb\" target=\"_parent\"><img src=\"https://colab.research.google.com/assets/colab-badge.svg\" alt=\"Open In Colab\"/></a>"
      ]
    },
    {
      "cell_type": "markdown",
      "source": [
        "###Creating a NumPy Array\n",
        "a. Basic ndarray\n",
        "b. Array of zeros\n",
        "c. Array of ones\n",
        "d. Random numbers in ndarray\n",
        "e. An array of your choice\n",
        "f. Imatrix in NumPy\n",
        "g. Evenly spaced ndarray"
      ],
      "metadata": {
        "id": "VtWoUhRpW6mP"
      }
    },
    {
      "cell_type": "code",
      "source": [
        "import numpy as np\n",
        "\n",
        "arr = np.array([1, 2, 3, 4, 5])\n",
        "print(\"Basic ndarray:\", arr)\n",
        "\n",
        "zero_array = np.zeros((3, 3))\n",
        "print(\"Array of Zeros:\\n\", zero_array)\n",
        "\n",
        "ones_array = np.ones((2, 4))\n",
        "print(\"Array of Ones:\\n\", ones_array)\n",
        "\n",
        "random_array = np.random.rand(3, 3)\n",
        "print(\"Random Numbers in ndarray:\\n\", random_array)\n",
        "\n",
        "custom_array = np.array([[10, 20, 30], [40, 50, 60]])\n",
        "print(\"Custom Array:\\n\", custom_array)\n",
        "\n",
        "identity_matrix = np.eye(4)\n",
        "print(\"Identity Matrix:\\n\", identity_matrix)\n",
        "\n",
        "even_spaced_array = np.arange(1, 20, 2)\n",
        "print(\"Evenly Spaced ndarray:\\n\", even_spaced_array)\n",
        "\n",
        "even_spaced_array2 = np.linspace(1, 10, 5)\n",
        "print(\"Evenly Spaced ndarray with linspace:\\n\", even_spaced_array2)"
      ],
      "metadata": {
        "colab": {
          "base_uri": "https://localhost:8080/"
        },
        "id": "-7pb2Cv9W5_f",
        "outputId": "9a16b35b-744f-44eb-b85c-5c4d35c62fd1"
      },
      "execution_count": 1,
      "outputs": [
        {
          "output_type": "stream",
          "name": "stdout",
          "text": [
            "Basic ndarray: [1 2 3 4 5]\n",
            "Array of Zeros:\n",
            " [[0. 0. 0.]\n",
            " [0. 0. 0.]\n",
            " [0. 0. 0.]]\n",
            "Array of Ones:\n",
            " [[1. 1. 1. 1.]\n",
            " [1. 1. 1. 1.]]\n",
            "Random Numbers in ndarray:\n",
            " [[0.24749467 0.98542365 0.0704129 ]\n",
            " [0.81502905 0.88762253 0.35941521]\n",
            " [0.15227434 0.99937552 0.82600549]]\n",
            "Custom Array:\n",
            " [[10 20 30]\n",
            " [40 50 60]]\n",
            "Identity Matrix:\n",
            " [[1. 0. 0. 0.]\n",
            " [0. 1. 0. 0.]\n",
            " [0. 0. 1. 0.]\n",
            " [0. 0. 0. 1.]]\n",
            "Evenly Spaced ndarray:\n",
            " [ 1  3  5  7  9 11 13 15 17 19]\n",
            "Evenly Spaced ndarray with linspace:\n",
            " [ 1.    3.25  5.5   7.75 10.  ]\n"
          ]
        }
      ]
    },
    {
      "cell_type": "markdown",
      "source": [
        "###The Shape and Reshaping of NumPy Array\n",
        "a. Dimensions of NumPy array\n",
        "b. Shape of NumPy array\n",
        "c. Size of NumPy array\n",
        "d. Reshaping a NumPy array\n",
        "e. Flattening a NumPy array\n",
        "f. Transpose of a NumPy array"
      ],
      "metadata": {
        "id": "MyAvxp2NW-TO"
      }
    },
    {
      "cell_type": "code",
      "execution_count": 2,
      "metadata": {
        "id": "CA5wEMFxGDi3",
        "colab": {
          "base_uri": "https://localhost:8080/"
        },
        "outputId": "433a63ff-d24b-4077-f7c1-c45a230dcf0b"
      },
      "outputs": [
        {
          "output_type": "stream",
          "name": "stdout",
          "text": [
            "a. Number of Dimensions: 2\n",
            "b. Shape of Array: (2, 3)\n",
            "c. Size of Array: 6\n",
            "d. Reshaped Array (3x2):\n",
            " [[1 2]\n",
            " [3 4]\n",
            " [5 6]]\n",
            "e. Flattened Array: [1 2 3 4 5 6]\n",
            "e. Raveled Array: [1 2 3 4 5 6]\n",
            "f. Transposed Array:\n",
            " [[1 4]\n",
            " [2 5]\n",
            " [3 6]]\n"
          ]
        }
      ],
      "source": [
        "import numpy as np\n",
        "\n",
        "arr = np.array([[1, 2, 3], [4, 5, 6]])\n",
        "\n",
        "print(\"a. Number of Dimensions:\", arr.ndim)\n",
        "print(\"b. Shape of Array:\", arr.shape)\n",
        "print(\"c. Size of Array:\", arr.size)\n",
        "\n",
        "reshaped_arr = arr.reshape(3, 2)\n",
        "print(\"d. Reshaped Array (3x2):\\n\", reshaped_arr)\n",
        "\n",
        "flattened_arr = arr.flatten()\n",
        "print(\"e. Flattened Array:\", flattened_arr)\n",
        "\n",
        "raveled_arr = arr.ravel()\n",
        "print(\"e. Raveled Array:\", raveled_arr)\n",
        "\n",
        "transposed_arr = arr.T\n",
        "print(\"f. Transposed Array:\\n\", transposed_arr)\n"
      ]
    },
    {
      "cell_type": "code",
      "source": [
        "import numpy as np\n",
        "\n",
        "# Creating a 2D array\n",
        "arr = np.array([[1, 2, 3], [4, 5, 6]])\n",
        "\n",
        "# Using ravel()\n",
        "raveled_arr = arr.ravel()\n",
        "print(\"Raveled Array:\", raveled_arr)  # Output: [1 2 3 4 5 6]\n",
        "\n",
        "# Modifying raveled array\n",
        "raveled_arr[0] = 99  # Since ravel() returns a view, the original array changes\n",
        "print(\"Modified Original Array:\\n\", arr)\n",
        "\n",
        "# Using flatten() (creates a copy)\n",
        "flattened_arr = arr.flatten()\n",
        "flattened_arr[1] = 88  # This will NOT affect the original array\n",
        "print(\"Modified Flattened Array:\", flattened_arr)\n",
        "print(\"Original Array After flatten():\\n\", arr)"
      ],
      "metadata": {
        "colab": {
          "base_uri": "https://localhost:8080/"
        },
        "id": "Ygy_KtKeeZx6",
        "outputId": "b37c7adc-bbaa-4447-a8fe-18b2708ac139"
      },
      "execution_count": 3,
      "outputs": [
        {
          "output_type": "stream",
          "name": "stdout",
          "text": [
            "Raveled Array: [1 2 3 4 5 6]\n",
            "Modified Original Array:\n",
            " [[99  2  3]\n",
            " [ 4  5  6]]\n",
            "Modified Flattened Array: [99 88  3  4  5  6]\n",
            "Original Array After flatten():\n",
            " [[99  2  3]\n",
            " [ 4  5  6]]\n"
          ]
        }
      ]
    },
    {
      "cell_type": "markdown",
      "source": [
        "###Expanding and Squeezing a NumPy Array\n",
        "a. Expanding a NumPy array\n",
        "b. Squeezing a NumPy array\n",
        "c. Sorting in NumPy Arrays"
      ],
      "metadata": {
        "id": "T_PmXCtMXC0i"
      }
    },
    {
      "cell_type": "code",
      "source": [
        "import numpy as np\n",
        "\n",
        "arr = np.array([1, 2, 3])\n",
        "\n",
        "col_vector = np.expand_dims(arr, axis=1)\n",
        "row_vector = arr[np.newaxis, :]\n",
        "\n",
        "arr_expanded = np.array([[[1], [2], [3]]])\n",
        "squeezed_arr = np.squeeze(arr_expanded)\n",
        "\n",
        "arr_2d = np.array([[3, 1, 2], [6, 4, 5]])\n",
        "sorted_row = np.sort(arr_2d, axis=1)\n",
        "sorted_col = np.sort(arr_2d, axis=0)\n",
        "indices = np.argsort(arr_2d, axis=1)\n",
        "\n",
        "print(\"Column Vector:\\n\", col_vector)\n",
        "print(\"Row Vector:\\n\", row_vector)\n",
        "print(\"Squeezed Array:\", squeezed_arr)\n",
        "print(\"Row-wise Sorted:\\n\", sorted_row)\n",
        "print(\"Column-wise Sorted:\\n\", sorted_col)\n",
        "print(\"Sorting Indices:\\n\", indices)"
      ],
      "metadata": {
        "colab": {
          "base_uri": "https://localhost:8080/"
        },
        "id": "yAhRMMhjXHaj",
        "outputId": "f06bd446-dc30-4be9-fbcf-1488dc4fb3fa"
      },
      "execution_count": 4,
      "outputs": [
        {
          "output_type": "stream",
          "name": "stdout",
          "text": [
            "Column Vector:\n",
            " [[1]\n",
            " [2]\n",
            " [3]]\n",
            "Row Vector:\n",
            " [[1 2 3]]\n",
            "Squeezed Array: [1 2 3]\n",
            "Row-wise Sorted:\n",
            " [[1 2 3]\n",
            " [4 5 6]]\n",
            "Column-wise Sorted:\n",
            " [[3 1 2]\n",
            " [6 4 5]]\n",
            "Sorting Indices:\n",
            " [[1 2 0]\n",
            " [1 2 0]]\n"
          ]
        }
      ]
    },
    {
      "cell_type": "markdown",
      "source": [
        "###Indexing and Slicing of NumPy Array\n",
        "a. Slicing 1-D NumPy arrays\n",
        "b. Slicing 2-D NumPy arrays\n",
        "c. Slicing 3-D NumPy arrays\n",
        "d. Negative slicing of NumPy arrays"
      ],
      "metadata": {
        "id": "J3bIfnSzXJvA"
      }
    },
    {
      "cell_type": "code",
      "source": [
        "import numpy as np\n",
        "\n",
        "arr = np.array([10, 20, 30, 40, 50, 60, 70])\n",
        "print(arr[1:4])\n",
        "print(arr[2:])\n",
        "print(arr[:5])\n",
        "print(arr[::2])\n",
        "print(arr[-3:])\n",
        "print(arr[:-2])\n",
        "print(arr[::-2])"
      ],
      "metadata": {
        "colab": {
          "base_uri": "https://localhost:8080/"
        },
        "id": "g6iV1Ys0XLUI",
        "outputId": "17f649fe-df00-4fd9-fd21-d709d68288d5"
      },
      "execution_count": 5,
      "outputs": [
        {
          "output_type": "stream",
          "name": "stdout",
          "text": [
            "[20 30 40]\n",
            "[30 40 50 60 70]\n",
            "[10 20 30 40 50]\n",
            "[10 30 50 70]\n",
            "[50 60 70]\n",
            "[10 20 30 40 50]\n",
            "[70 50 30 10]\n"
          ]
        }
      ]
    },
    {
      "cell_type": "code",
      "source": [
        "arr2d = np.array([[1, 2, 3, 4], [5, 6, 7, 8], [9, 10, 11, 12]])\n",
        "print(arr2d[0:2, 1:3])\n",
        "print(arr2d[:2, :])\n",
        "print(arr2d[:, 1])\n",
        "print(arr2d[::2, :])\n",
        "print(arr2d[-1, :])\n",
        "print(arr2d[:, -1])"
      ],
      "metadata": {
        "colab": {
          "base_uri": "https://localhost:8080/"
        },
        "id": "uDAq1m7Uo7cj",
        "outputId": "0e0a780d-12c2-4ed4-d913-91a651d58a0e"
      },
      "execution_count": 6,
      "outputs": [
        {
          "output_type": "stream",
          "name": "stdout",
          "text": [
            "[[2 3]\n",
            " [6 7]]\n",
            "[[1 2 3 4]\n",
            " [5 6 7 8]]\n",
            "[ 2  6 10]\n",
            "[[ 1  2  3  4]\n",
            " [ 9 10 11 12]]\n",
            "[ 9 10 11 12]\n",
            "[ 4  8 12]\n"
          ]
        }
      ]
    },
    {
      "cell_type": "code",
      "source": [
        "arr3d = np.array([[[1, 2, 3], [4, 5, 6]], [[7, 8, 9], [10, 11, 12]], [[13, 14, 15], [16, 17, 18]]])\n",
        "print(arr3d[:2, :, :])\n",
        "print(arr3d[1, :, :])\n",
        "print(arr3d[:, 0, :])"
      ],
      "metadata": {
        "colab": {
          "base_uri": "https://localhost:8080/"
        },
        "id": "w9ZAh__jo-ky",
        "outputId": "27642965-6cf5-48a7-fea0-f2ee5bea3b08"
      },
      "execution_count": 7,
      "outputs": [
        {
          "output_type": "stream",
          "name": "stdout",
          "text": [
            "[[[ 1  2  3]\n",
            "  [ 4  5  6]]\n",
            "\n",
            " [[ 7  8  9]\n",
            "  [10 11 12]]]\n",
            "[[ 7  8  9]\n",
            " [10 11 12]]\n",
            "[[ 1  2  3]\n",
            " [ 7  8  9]\n",
            " [13 14 15]]\n"
          ]
        }
      ]
    },
    {
      "cell_type": "markdown",
      "source": [
        "###Stacking and Concatenating Numpy Arrays\n",
        "a. Stacking ndarrays\n",
        "b. Concatenating ndarrays\n",
        "c. Broadcasting in Numpy Arrays"
      ],
      "metadata": {
        "id": "pSMW_oobXPQq"
      }
    },
    {
      "cell_type": "code",
      "source": [
        "import numpy as np\n",
        "\n",
        "a = np.array([1, 2, 3])\n",
        "b = np.array([4, 5, 6])\n",
        "\n",
        "stacked_0 = np.stack((a, b), axis=0)\n",
        "stacked_1 = np.stack((a, b), axis=1)\n",
        "\n",
        "print(\"Stacked along axis=0:\\n\", stacked_0)\n",
        "print(\"Stacked along axis=1:\\n\", stacked_1)\n",
        "\n",
        "vstacked = np.vstack((a, b))\n",
        "print(\"Vertically Stacked:\\n\", vstacked)\n",
        "\n",
        "hstacked = np.hstack((a, b))\n",
        "print(\"Horizontally Stacked:\\n\", hstacked)\n",
        "\n",
        "x = np.array([[1, 2], [3, 4]])\n",
        "y = np.array([[5, 6]])\n",
        "\n",
        "concat_axis0 = np.concatenate((x, y), axis=0)\n",
        "print(\"Concatenation along axis=0:\\n\", concat_axis0)\n",
        "\n",
        "z = np.array([[7], [8]])\n",
        "concat_axis1 = np.concatenate((x, z), axis=1)\n",
        "print(\"Concatenation along axis=1:\\n\", concat_axis1)\n",
        "\n",
        "A = np.array([[1, 2, 3], [4, 5, 6]])\n",
        "B = np.array([1, 2, 3])\n",
        "\n",
        "C = A + B\n",
        "print(\"Broadcasted Addition:\\n\", C)\n",
        "\n",
        "A = np.array([[1], [2], [3]])\n",
        "B = np.array([10, 20, 30])\n",
        "\n",
        "C = A * B\n",
        "print(\"Broadcasted Multiplication:\\n\", C)"
      ],
      "metadata": {
        "colab": {
          "base_uri": "https://localhost:8080/"
        },
        "id": "1XaJwwV2XQyE",
        "outputId": "1797dee0-e77b-4b6a-9bc2-9e311f6ddf59"
      },
      "execution_count": 8,
      "outputs": [
        {
          "output_type": "stream",
          "name": "stdout",
          "text": [
            "Stacked along axis=0:\n",
            " [[1 2 3]\n",
            " [4 5 6]]\n",
            "Stacked along axis=1:\n",
            " [[1 4]\n",
            " [2 5]\n",
            " [3 6]]\n",
            "Vertically Stacked:\n",
            " [[1 2 3]\n",
            " [4 5 6]]\n",
            "Horizontally Stacked:\n",
            " [1 2 3 4 5 6]\n",
            "Concatenation along axis=0:\n",
            " [[1 2]\n",
            " [3 4]\n",
            " [5 6]]\n",
            "Concatenation along axis=1:\n",
            " [[1 2 7]\n",
            " [3 4 8]]\n",
            "Broadcasted Addition:\n",
            " [[2 4 6]\n",
            " [5 7 9]]\n",
            "Broadcasted Multiplication:\n",
            " [[10 20 30]\n",
            " [20 40 60]\n",
            " [30 60 90]]\n"
          ]
        }
      ]
    },
    {
      "cell_type": "markdown",
      "source": [
        "###Perform following operations using pandas\n",
        "a. Creating dataframe\n",
        "b. concat()\n",
        "c. Setting conditions\n",
        "d. Adding a new column\n"
      ],
      "metadata": {
        "id": "GapKnh6eXSk4"
      }
    },
    {
      "cell_type": "code",
      "source": [
        "import pandas as pd\n",
        "\n",
        "# a. Creating a DataFrame\n",
        "data1 = {'ID': [1, 2, 3], 'Name': ['Alice', 'Bob', 'Charlie'], 'Age': [25, 30, 35]}\n",
        "data2 = {'ID': [4, 5, 6], 'Name': ['David', 'Eve', 'Frank'], 'Age': [40, 45, 50]}\n",
        "df1 = pd.DataFrame(data1)\n",
        "df2 = pd.DataFrame(data2)\n",
        "\n",
        "print(\"DataFrame 1:\")\n",
        "print(df1)\n",
        "print(\"\\nDataFrame 2:\")\n",
        "print(df2)\n",
        "\n",
        "# b. Concatenating DataFrames\n",
        "df_combined = pd.concat([df1, df2], ignore_index=True)\n",
        "print(\"\\nConcatenated DataFrame:\")\n",
        "print(df_combined)\n",
        "\n",
        "# c. Setting Conditions (Filtering Data)\n",
        "df_filtered = df_combined[df_combined['Age'] > 30]\n",
        "print(\"\\nFiltered DataFrame (Age > 30):\")\n",
        "print(df_filtered)\n",
        "\n",
        "# d. Adding a New Column\n",
        "df_combined['Category'] = ['Young' if age < 40 else 'Senior' for age in df_combined['Age']]\n",
        "print(\"\\nDataFrame with New Column:\")\n",
        "print(df_combined)"
      ],
      "metadata": {
        "colab": {
          "base_uri": "https://localhost:8080/"
        },
        "id": "O-n49wDlXUnc",
        "outputId": "b1dd40e4-1c44-4ac3-eb81-9492bac6d245"
      },
      "execution_count": 10,
      "outputs": [
        {
          "output_type": "stream",
          "name": "stdout",
          "text": [
            "DataFrame 1:\n",
            "   ID     Name  Age\n",
            "0   1    Alice   25\n",
            "1   2      Bob   30\n",
            "2   3  Charlie   35\n",
            "\n",
            "DataFrame 2:\n",
            "   ID   Name  Age\n",
            "0   4  David   40\n",
            "1   5    Eve   45\n",
            "2   6  Frank   50\n",
            "\n",
            "Concatenated DataFrame:\n",
            "   ID     Name  Age\n",
            "0   1    Alice   25\n",
            "1   2      Bob   30\n",
            "2   3  Charlie   35\n",
            "3   4    David   40\n",
            "4   5      Eve   45\n",
            "5   6    Frank   50\n",
            "\n",
            "Filtered DataFrame (Age > 30):\n",
            "   ID     Name  Age\n",
            "2   3  Charlie   35\n",
            "3   4    David   40\n",
            "4   5      Eve   45\n",
            "5   6    Frank   50\n",
            "\n",
            "DataFrame with New Column:\n",
            "   ID     Name  Age Category\n",
            "0   1    Alice   25    Young\n",
            "1   2      Bob   30    Young\n",
            "2   3  Charlie   35    Young\n",
            "3   4    David   40   Senior\n",
            "4   5      Eve   45   Senior\n",
            "5   6    Frank   50   Senior\n"
          ]
        }
      ]
    },
    {
      "cell_type": "markdown",
      "source": [
        "###Perform following operations using pandas\n",
        "a. Filling NaN with string\n",
        "b. Sorting based on column values\n",
        "c. groupby()\n"
      ],
      "metadata": {
        "id": "5Ske37fCXWoB"
      }
    },
    {
      "cell_type": "code",
      "source": [
        "import pandas as pd\n",
        "\n",
        "# Creating a sample DataFrame\n",
        "data = {\n",
        "    'Name': ['Alice', 'Bob', 'Charlie', 'David', None],\n",
        "    'Age': [25, 30, None, 22, 27],\n",
        "    'City': ['New York', 'San Francisco', 'Chicago', 'Austin', 'New York'],\n",
        "    'Salary': [70000, 80000, 65000, 72000, 75000]\n",
        "}\n",
        "\n",
        "df = pd.DataFrame(data)\n",
        "print(\"Original DataFrame:\\n\", df)\n",
        "\n",
        "# (a) Filling NaN with a string\n",
        "df_filled = df.fillna(\"Unknown\")\n",
        "print(\"\\nDataFrame after filling NaN:\\n\", df_filled)\n",
        "\n",
        "# (b) Sorting based on column values (Sorting by 'Age' in ascending order)\n",
        "df_sorted = df.sort_values(by='Age', ascending=True)\n",
        "print(\"\\nDataFrame sorted by Age:\\n\", df_sorted)\n",
        "\n",
        "# (c) Grouping by 'City' and calculating average salary\n",
        "df_grouped = df.groupby('City')['Salary'].mean()\n",
        "print(\"\\nAverage Salary by City:\\n\", df_grouped)"
      ],
      "metadata": {
        "colab": {
          "base_uri": "https://localhost:8080/"
        },
        "id": "1pPM9OzvXXsW",
        "outputId": "cfdc9d84-257b-4f46-fea7-271dbea8c9a9"
      },
      "execution_count": 9,
      "outputs": [
        {
          "output_type": "stream",
          "name": "stdout",
          "text": [
            "Original DataFrame:\n",
            "       Name   Age           City  Salary\n",
            "0    Alice  25.0       New York   70000\n",
            "1      Bob  30.0  San Francisco   80000\n",
            "2  Charlie   NaN        Chicago   65000\n",
            "3    David  22.0         Austin   72000\n",
            "4     None  27.0       New York   75000\n",
            "\n",
            "DataFrame after filling NaN:\n",
            "       Name      Age           City  Salary\n",
            "0    Alice     25.0       New York   70000\n",
            "1      Bob     30.0  San Francisco   80000\n",
            "2  Charlie  Unknown        Chicago   65000\n",
            "3    David     22.0         Austin   72000\n",
            "4  Unknown     27.0       New York   75000\n",
            "\n",
            "DataFrame sorted by Age:\n",
            "       Name   Age           City  Salary\n",
            "3    David  22.0         Austin   72000\n",
            "0    Alice  25.0       New York   70000\n",
            "4     None  27.0       New York   75000\n",
            "1      Bob  30.0  San Francisco   80000\n",
            "2  Charlie   NaN        Chicago   65000\n",
            "\n",
            "Average Salary by City:\n",
            " City\n",
            "Austin           72000.0\n",
            "Chicago          65000.0\n",
            "New York         72500.0\n",
            "San Francisco    80000.0\n",
            "Name: Salary, dtype: float64\n"
          ]
        }
      ]
    },
    {
      "cell_type": "markdown",
      "source": [
        "###Read the following file formats using pandas\n",
        "a. Text files\n",
        "b. CSV files\n",
        "c. Excel files\n",
        "d. JSON files"
      ],
      "metadata": {
        "id": "gapmveahXaWy"
      }
    },
    {
      "cell_type": "code",
      "source": [
        "import pandas as pd\n",
        "\n",
        "#As explained in the class, execute by creating your own data files. your own text file, json file and other file formats.\n",
        "# Sample data\n",
        "data = {\n",
        "    \"Name\": [\"Alice\", \"Bob\", \"Charlie\"],\n",
        "    \"Age\": [25, 30, 35],\n",
        "    \"City\": [\"New York\", \"Los Angeles\", \"Chicago\"]\n",
        "}\n",
        "\n",
        "# Create a text file (tab-separated)\n",
        "df_sample = pd.DataFrame(data)\n",
        "df_sample.to_csv(\"data.txt\", sep=\"\\t\", index=False)\n",
        "\n",
        "# Create a CSV file\n",
        "df_sample.to_csv(\"data.csv\", index=False)\n",
        "\n",
        "# Create an Excel file\n",
        "df_sample.to_excel(\"data.xlsx\", sheet_name=\"Sheet1\", index=False)\n",
        "\n",
        "# Create a JSON file\n",
        "df_sample.to_json(\"data.json\", orient=\"records\", indent=4)\n",
        "\n",
        "# Load text file\n",
        "df_txt = pd.read_csv(\"data.txt\", delimiter=\"\\t\")\n",
        "print(\"\\nText File Data:\\n\", df_txt)\n",
        "\n",
        "# Load CSV file\n",
        "df_csv = pd.read_csv(\"data.csv\")\n",
        "print(\"\\nCSV File Data:\\n\", df_csv)\n",
        "\n",
        "# Load Excel file\n",
        "df_excel = pd.read_excel(\"data.xlsx\", sheet_name=\"Sheet1\")\n",
        "print(\"\\nExcel File Data:\\n\", df_excel)\n",
        "\n",
        "# Load JSON file\n",
        "df_json = pd.read_json(\"data.json\")\n",
        "print(\"\\nJSON File Data:\\n\", df_json)"
      ],
      "metadata": {
        "colab": {
          "base_uri": "https://localhost:8080/"
        },
        "id": "vRQQpQ_CXcb2",
        "outputId": "245dee1b-eeb5-4b3e-d917-3b18f375fb05"
      },
      "execution_count": 14,
      "outputs": [
        {
          "output_type": "stream",
          "name": "stdout",
          "text": [
            "\n",
            "Text File Data:\n",
            "       Name  Age         City\n",
            "0    Alice   25     New York\n",
            "1      Bob   30  Los Angeles\n",
            "2  Charlie   35      Chicago\n",
            "\n",
            "CSV File Data:\n",
            "       Name  Age         City\n",
            "0    Alice   25     New York\n",
            "1      Bob   30  Los Angeles\n",
            "2  Charlie   35      Chicago\n",
            "\n",
            "Excel File Data:\n",
            "       Name  Age         City\n",
            "0    Alice   25     New York\n",
            "1      Bob   30  Los Angeles\n",
            "2  Charlie   35      Chicago\n",
            "\n",
            "JSON File Data:\n",
            "       Name  Age         City\n",
            "0    Alice   25     New York\n",
            "1      Bob   30  Los Angeles\n",
            "2  Charlie   35      Chicago\n"
          ]
        }
      ]
    },
    {
      "cell_type": "markdown",
      "source": [
        "###Read the following file formats\n",
        "a. Pickle files\n",
        "b. Image files using PIL\n",
        "c. Multiple files using Glob\n",
        "d. Importing data from database\n"
      ],
      "metadata": {
        "id": "c111CPuKXem8"
      }
    },
    {
      "cell_type": "code",
      "source": [
        "import pickle\n",
        "from PIL import Image\n",
        "import glob\n",
        "import sqlite3\n",
        "\n",
        "#As explained in the class create try to read a image file and display the image. Also create a query using SQL.\n",
        "\n",
        "def read_pickle_file(file_path):\n",
        "    with open(file_path, 'rb') as file:\n",
        "        data = pickle.load(file)\n",
        "    return data\n",
        "\n",
        "def read_image(file_path):\n",
        "    img = Image.open(file_path)\n",
        "    img.show()\n",
        "    return img\n",
        "\n",
        "def read_multiple_files(folder_path, file_extension=\"*.txt\"):\n",
        "    file_paths = glob.glob(f\"{folder_path}/{file_extension}\")\n",
        "    data = []\n",
        "    for file in file_paths:\n",
        "        with open(file, 'r', encoding='utf-8') as f:\n",
        "            data.append(f.read())\n",
        "    return data\n",
        "\n",
        "def read_from_database(db_path, query=\"SELECT * FROM users\"):\n",
        "    conn = sqlite3.connect(db_path)\n",
        "    cursor = conn.cursor()\n",
        "    cursor.execute(query)\n",
        "    data = cursor.fetchall()\n",
        "    conn.close()\n",
        "    return data\n",
        "\n",
        "# Example usage\n",
        "# data = read_pickle_file('data.pkl')\n",
        "# img = read_image(\"sample.jpg\")\n",
        "# text_data = read_multiple_files(\"my_folder\")\n",
        "# records = read_from_database(\"my_database.db\")"
      ],
      "metadata": {
        "id": "QlIIC4krXf4s"
      },
      "execution_count": 12,
      "outputs": []
    },
    {
      "cell_type": "markdown",
      "source": [
        "###Demonstrate web scraping using python"
      ],
      "metadata": {
        "id": "r2blyvITXh6Z"
      }
    },
    {
      "cell_type": "code",
      "source": [
        "import requests\n",
        "from bs4 import BeautifulSoup\n",
        "\n",
        "def scrape_quotes():\n",
        "    # URL of the website to scrape\n",
        "    url = \"https://quotes.toscrape.com\"\n",
        "\n",
        "    # Send an HTTP request to fetch the webpage\n",
        "    headers = {\n",
        "        \"User-Agent\": \"Mozilla/5.0 (Windows NT 10.0; Win64; x64) AppleWebKit/537.36 (KHTML, like Gecko) Chrome/91.0.4472.124 Safari/537.36\"\n",
        "    }\n",
        "    response = requests.get(url, headers=headers)\n",
        "\n",
        "    print(response)\n",
        "\n",
        "    # Check if the request was successful\n",
        "    if response.status_code == 200:\n",
        "        # Parse the HTML content using BeautifulSoup\n",
        "        soup = BeautifulSoup(response.text, \"html.parser\")\n",
        "\n",
        "        # Find all quote elements\n",
        "        quotes = soup.find_all(\"span\", class_=\"text\")\n",
        "        authors = soup.find_all(\"small\", class_=\"author\")\n",
        "\n",
        "        # Extract and print the quotes with authors\n",
        "        print(\"\\nExtracted Quotes:\\n\" + \"-\"*50)\n",
        "        for index, (quote, author) in enumerate(zip(quotes, authors), start=1):\n",
        "            print(f\"{index}. {quote.text} - {author.text}\")\n",
        "    else:\n",
        "        print(f\"Failed to retrieve the page. Status Code: {response.status_code}\")\n",
        "\n",
        "# Run the scraper\n",
        "if __name__ == \"__main__\":\n",
        "    scrape_quotes()"
      ],
      "metadata": {
        "colab": {
          "base_uri": "https://localhost:8080/"
        },
        "id": "JP0V6AplXjFA",
        "outputId": "27d4cc03-dcd4-460b-edbb-7d0f7701db34"
      },
      "execution_count": 15,
      "outputs": [
        {
          "output_type": "stream",
          "name": "stdout",
          "text": [
            "<Response [200]>\n",
            "\n",
            "Extracted Quotes:\n",
            "--------------------------------------------------\n",
            "1. “The world as we have created it is a process of our thinking. It cannot be changed without changing our thinking.” - Albert Einstein\n",
            "2. “It is our choices, Harry, that show what we truly are, far more than our abilities.” - J.K. Rowling\n",
            "3. “There are only two ways to live your life. One is as though nothing is a miracle. The other is as though everything is a miracle.” - Albert Einstein\n",
            "4. “The person, be it gentleman or lady, who has not pleasure in a good novel, must be intolerably stupid.” - Jane Austen\n",
            "5. “Imperfection is beauty, madness is genius and it's better to be absolutely ridiculous than absolutely boring.” - Marilyn Monroe\n",
            "6. “Try not to become a man of success. Rather become a man of value.” - Albert Einstein\n",
            "7. “It is better to be hated for what you are than to be loved for what you are not.” - André Gide\n",
            "8. “I have not failed. I've just found 10,000 ways that won't work.” - Thomas A. Edison\n",
            "9. “A woman is like a tea bag; you never know how strong it is until it's in hot water.” - Eleanor Roosevelt\n",
            "10. “A day without sunshine is like, you know, night.” - Steve Martin\n"
          ]
        }
      ]
    }
  ]
}