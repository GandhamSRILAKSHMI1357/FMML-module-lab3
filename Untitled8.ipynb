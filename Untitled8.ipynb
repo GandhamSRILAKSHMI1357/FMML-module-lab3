{
  "nbformat": 4,
  "nbformat_minor": 0,
  "metadata": {
    "colab": {
      "provenance": [],
      "authorship_tag": "ABX9TyMIyJK0uZRNoWUNjyjOZGwp",
      "include_colab_link": true
    },
    "kernelspec": {
      "name": "python3",
      "display_name": "Python 3"
    },
    "language_info": {
      "name": "python"
    }
  },
  "cells": [
    {
      "cell_type": "markdown",
      "metadata": {
        "id": "view-in-github",
        "colab_type": "text"
      },
      "source": [
        "<a href=\"https://colab.research.google.com/github/GandhamSRILAKSHMI1357/FMML-module-lab3/blob/main/Untitled8.ipynb\" target=\"_parent\"><img src=\"https://colab.research.google.com/assets/colab-badge.svg\" alt=\"Open In Colab\"/></a>"
      ]
    },
    {
      "cell_type": "code",
      "execution_count": null,
      "metadata": {
        "id": "4gEDVms4MY4a"
      },
      "outputs": [],
      "source": []
    },
    {
      "cell_type": "markdown",
      "source": [
        "# Declaring Array => finding the shape and size # Array Initialization: # Initialize arrays with different values and print their shapes and sizes. # 1. Zeros => create an array filled with zeros # 2. Ones => create an array filled with ones # 3. Range => create an array with evenly spaced values # 4. Random => create an array with random values # 5. Linspace => create an array with evenly spaced values # 6. Full => create an array with a constant value # syntax: np.zeros(shape, dtype=float, order='C') # syntax: np.ones(shape, dtype=float, order='C') # syntax: np.arange(start, stop, step, dtype=None) # syntax: np.random.rand(shape) # syntax: np.linspace(start, stop, num=50, endpoint=True, retstep=False, dtype=None) # syntax: np.full(shape, fill_value, dtype=None) # Ex: zero = np.zeros((2,4)) print(zero) ones = np.ones((3,4)) print(ones) range = np.arange(0, 9, 2) #(Start, Stop+1, Step) print(range) random = np.random.rand(2,3) print(random) linspace = np.linspace(0, 10, 5) print(linspace)"
      ],
      "metadata": {
        "id": "UT4aUKrwMaVB"
      }
    }
  ]
}