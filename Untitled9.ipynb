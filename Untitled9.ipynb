{
  "nbformat": 4,
  "nbformat_minor": 0,
  "metadata": {
    "colab": {
      "provenance": [],
      "authorship_tag": "ABX9TyMtWaa9KiICCWTGZ84NqW4k",
      "include_colab_link": true
    },
    "kernelspec": {
      "name": "python3",
      "display_name": "Python 3"
    },
    "language_info": {
      "name": "python"
    }
  },
  "cells": [
    {
      "cell_type": "markdown",
      "metadata": {
        "id": "view-in-github",
        "colab_type": "text"
      },
      "source": [
        "<a href=\"https://colab.research.google.com/github/GandhamSRILAKSHMI1357/FMML-module-lab3/blob/main/Untitled9.ipynb\" target=\"_parent\"><img src=\"https://colab.research.google.com/assets/colab-badge.svg\" alt=\"Open In Colab\"/></a>"
      ]
    },
    {
      "cell_type": "markdown",
      "source": [
        "# Array Operations # => Add, subtract, multiply, divide, power, product # 1. Add => add two arrays element-wise list1 = [1,2,3,4] list2 = [5,6,7,8] print(np.array(list1) + np.array(list2)) # 2. Subtract => subtract two arrays element-wise print(np.array(list1) - np.array(list2)) # 3. Multiply => multiply two arrays element-wise print(np.array(list1) * np.array(list2)) # 4. Divide => divide two arrays element-wise print(np.array(list1) / np.array(list2)) # 5. Power => raise one array to the power of another array element-wise print(np.array(list1) ** np.array(list2)) # 6. Product(np.dot) => multiply all elements of an array element-wise print(np.dot(np.array(list1), np.array(list2))) # 70 => 1*5 + 2*6 + 3*7 + 4*8 # Statistical Operations array1 = np.array([1,2,3]) array2 = np.array([4,5,6]) arr4 = np.array([[[1,2,3],[4,5,6]],[[7,8,9],[10,11,12]]]) # 1. min => return the minimum value print(np.min(arr4)) #1 # 2. max => return the maximum value print(np.max(arr4)) #12 # 3. mean => return the mean value print(np.mean(array2)) #5.0 # 4. sum => return the sum print(np.sum(array1 + array2)) #21 # 5. median => middle value print(np.median(array1)) #2.0"
      ],
      "metadata": {
        "id": "kpJrnSKUxPbh"
      }
    },
    {
      "cell_type": "markdown",
      "source": [
        "# Indexing and Slicing # 1. Indexing => access a single element by its index # 2. Slicing => # access multiple elements by specifying start and end indices array3 = np.array([10,20,30,40,50]) # 1D # Ex: Indexing print(array3[0]) #10 print(array3[1]) #20 print(array3[2]) #30 print(array3[3]) #40 print(array3[4]) #50 # Ex: Slicing print(array3[2:4]) #30 40 print(array3[2:]) #30 40 50 print(array3[:4]) #10 20 30 40 print(array3[:]) #10 20 30 40 50 array4 = np.array([[1,2,3], [4,5,6], [7,8,9]]) # 2D -----------> 2 # Ex: Indexing print(array4[0,0]) #1 print(array4[0,1]) #2 print(array4[0,2]) #3 print(array4[1,0]) #4 print(array4[1,1]) #5 print(array4[1,2]) #6 print(array4[2,0]) #7 print(array4[2,1]) #8 print(array4[2,2]) #9 # Ex: Slicing print(array4[0,1:]) #2 3 print(array4[1,1:]) #5 6 print(array4[2,1:]) #8 9 print(array4[0:,1:]) #2 3 5 6 8 9 print(array4[1:,1:]) #5 6 8 9"
      ],
      "metadata": {
        "id": "TU0Yvo4axSbx"
      }
    },
    {
      "cell_type": "markdown",
      "source": [
        "# # ------------------------------------------- # # Reshaping & Transposing import numpy as np # # Reshaping => Change the Shape of an Array # # Transposing => Change the Dimensionality of an Array # => Swap the rows to cols # row => 2 # cols => 3 array5 = np.array([[1,2,3], [4,5,6]]) # # Ex: Reshaping(row, cols) print(array5.reshape(3,2)) # # Ex: Transposing print(array5.T)"
      ],
      "metadata": {
        "id": "mspaCZkWxZ6W"
      }
    },
    {
      "cell_type": "markdown",
      "source": [
        "# Sorting and unique values # # Sorting => sort an array in ascending or descending order # Syntax: numpy.sort(var) # # Unique => return the unique values in an array array6 = np.array([3,1,2,4,2,5,1]) # # Ex: Sorting print(np.sort(array6)) # # Ex: Unique print(np.unique(array6))"
      ],
      "metadata": {
        "id": "7IeJOH0fxhns"
      }
    },
    {
      "cell_type": "markdown",
      "source": [],
      "metadata": {
        "id": "dnGytNG_xoPh"
      }
    }
  ]
}