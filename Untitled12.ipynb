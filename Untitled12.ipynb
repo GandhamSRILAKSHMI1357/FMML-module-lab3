{
  "nbformat": 4,
  "nbformat_minor": 0,
  "metadata": {
    "colab": {
      "provenance": [],
      "authorship_tag": "ABX9TyNf+/kZXOErBFJzNrMzvta6",
      "include_colab_link": true
    },
    "kernelspec": {
      "name": "python3",
      "display_name": "Python 3"
    },
    "language_info": {
      "name": "python"
    }
  },
  "cells": [
    {
      "cell_type": "markdown",
      "metadata": {
        "id": "view-in-github",
        "colab_type": "text"
      },
      "source": [
        "<a href=\"https://colab.research.google.com/github/GandhamSRILAKSHMI1357/FMML-module-lab3/blob/main/Untitled12.ipynb\" target=\"_parent\"><img src=\"https://colab.research.google.com/assets/colab-badge.svg\" alt=\"Open In Colab\"/></a>"
      ]
    },
    {
      "cell_type": "code",
      "execution_count": 1,
      "metadata": {
        "id": "C2k_g5hTNfVp"
      },
      "outputs": [],
      "source": [
        "# --------------------------------------------------------- # Add new row(loc) df2.loc[4] = [\"John\", 50, \"San Francisco\"] print(df2) # Output: # Name Age City # 0 Alice 10 New York # 1 Bob 20 Los Angeles # 2 Charlie 30 Chicago # 3 Dhanush 40 Houston # 4 John 50 San Francisco # Add new column df2[\"Country\"] = [\"USA\", \"USA\", \"USA\", \"USA\", \"USA\"] print(df2) # Output: # Name Age City Country # 0 Alice 10 New York USA # 1 Bob 20 Los Angeles USA # 2 Charlie 30 Chicago USA # 3 Dhanush 40 Houston USA # 4 John 50 San Francisco USA # Update to CSV file df2.to_csv(\"data.csv\", index=False) print(\"File has been updated successfully.\") # by append new_Data = { \"Name\": \"Ridham\", \"Age\": 20, \"City\": \"Pune\", \"Country\": \"India\" } df2 = df2._append(new_Data, ignore_index=True) print(df2)"
      ]
    }
  ]
}